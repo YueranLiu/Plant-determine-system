{
  "nbformat": 4,
  "nbformat_minor": 0,
  "metadata": {
    "colab": {
      "name": "Untitled0.ipynb",
      "provenance": []
    },
    "kernelspec": {
      "name": "python3",
      "display_name": "Python 3"
    },
    "accelerator": "GPU"
  },
  "cells": [
    {
      "cell_type": "code",
      "metadata": {
        "id": "vP1XEbaUU1vi",
        "colab_type": "code",
        "colab": {}
      },
      "source": [
        "%matplotlib inline\n",
        "import os\n",
        "import matplotlib\n",
        "import matplotlib.pyplot as plt\n",
        "import pandas as pd\n",
        "import cv2\n",
        "import numpy as np\n",
        "from glob import glob\n",
        "import seaborn as sns\n",
        "\n",
        "plt.rcParams['figure.figsize'] = [16, 10]"
      ],
      "execution_count": 0,
      "outputs": []
    },
    {
      "cell_type": "code",
      "metadata": {
        "id": "DZoiUyVXVScm",
        "colab_type": "code",
        "outputId": "89707a9b-af0d-41d6-9c75-2e647e30535b",
        "colab": {
          "base_uri": "https://localhost:8080/",
          "height": 97
        }
      },
      "source": [
        "import tensorflow\n",
        "from tensorflow.keras.preprocessing.image import load_img, img_to_array, array_to_img\n",
        "from keras.preprocessing.image import ImageDataGenerator"
      ],
      "execution_count": 0,
      "outputs": [
        {
          "output_type": "display_data",
          "data": {
            "text/html": [
              "<p style=\"color: red;\">\n",
              "The default version of TensorFlow in Colab will soon switch to TensorFlow 2.x.<br>\n",
              "We recommend you <a href=\"https://www.tensorflow.org/guide/migrate\" target=\"_blank\">upgrade</a> now \n",
              "or ensure your notebook will continue to use TensorFlow 1.x via the <code>%tensorflow_version 1.x</code> magic:\n",
              "<a href=\"https://colab.research.google.com/notebooks/tensorflow_version.ipynb\" target=\"_blank\">more info</a>.</p>\n"
            ],
            "text/plain": [
              "<IPython.core.display.HTML object>"
            ]
          },
          "metadata": {
            "tags": []
          }
        },
        {
          "output_type": "stream",
          "text": [
            "Using TensorFlow backend.\n"
          ],
          "name": "stderr"
        }
      ]
    },
    {
      "cell_type": "code",
      "metadata": {
        "id": "ZqGDHlr7VXlr",
        "colab_type": "code",
        "colab": {}
      },
      "source": [
        "from google.colab import drive"
      ],
      "execution_count": 0,
      "outputs": []
    },
    {
      "cell_type": "code",
      "metadata": {
        "id": "PZuH9B9XVdcr",
        "colab_type": "code",
        "colab": {}
      },
      "source": [
        "!pip install -U -q PyDrive\n",
        "from pydrive.auth import GoogleAuth\n",
        "from pydrive.drive import GoogleDrive\n",
        "from google.colab import auth\n",
        "from oauth2client.client import GoogleCredentials"
      ],
      "execution_count": 0,
      "outputs": []
    },
    {
      "cell_type": "code",
      "metadata": {
        "id": "AsG6LG2AZ2fl",
        "colab_type": "code",
        "outputId": "a0591578-1b54-4058-91cb-cee8bd898288",
        "colab": {
          "base_uri": "https://localhost:8080/",
          "height": 54
        }
      },
      "source": [
        "from google.colab import drive\n",
        "drive.mount('/content/drive')"
      ],
      "execution_count": 0,
      "outputs": [
        {
          "output_type": "stream",
          "text": [
            "Drive already mounted at /content/drive; to attempt to forcibly remount, call drive.mount(\"/content/drive\", force_remount=True).\n"
          ],
          "name": "stdout"
        }
      ]
    },
    {
      "cell_type": "code",
      "metadata": {
        "id": "khQdVmbTZ3dS",
        "colab_type": "code",
        "outputId": "675635b5-836f-49f3-83bb-0dcfc05ed394",
        "colab": {
          "base_uri": "https://localhost:8080/",
          "height": 34
        }
      },
      "source": [
        "import os\n",
        "os.listdir(\"/content/drive/My Drive/input\")"
      ],
      "execution_count": 0,
      "outputs": [
        {
          "output_type": "execute_result",
          "data": {
            "text/plain": [
              "['test', 'train', 'sample_submission.csv']"
            ]
          },
          "metadata": {
            "tags": []
          },
          "execution_count": 6
        }
      ]
    },
    {
      "cell_type": "code",
      "metadata": {
        "id": "gq8KjZScaE09",
        "colab_type": "code",
        "colab": {}
      },
      "source": [
        "def get_images(directory):\n",
        "    Images = []\n",
        "    Labels = []\n",
        "    for dir_name in os.listdir(directory): \n",
        "        for image_file in os.listdir(directory+dir_name):\n",
        "            image = cv2.imread(directory+dir_name+r'/'+image_file)\n",
        "            if image is not None:\n",
        "                image = cv2.resize(image,(300,300),)\n",
        "                Images.append(image)\n",
        "                Labels.append(dir_name)\n",
        "    return Images, Labels"
      ],
      "execution_count": 0,
      "outputs": []
    },
    {
      "cell_type": "code",
      "metadata": {
        "id": "7aXPbbWtaNOA",
        "colab_type": "code",
        "colab": {}
      },
      "source": [
        "Images, Labels = get_images('/content/drive/My Drive/input/train/')"
      ],
      "execution_count": 0,
      "outputs": []
    },
    {
      "cell_type": "code",
      "metadata": {
        "id": "UHLBzL79aTPx",
        "colab_type": "code",
        "colab": {}
      },
      "source": [
        "labels = []\n",
        "mapping = { 'Sugar beet': 0, 'Fat Hen': 1, 'Scentless Mayweed' : 2, 'Charlock' : 3,\n",
        "           'Small-flowered Cranesbill': 4, 'Maize': 5, 'Shepherds Purse' :6, 'Common wheat': 7,\n",
        "           'Common Chickweed': 8, 'Cleavers': 9, 'Loose Silky-bent' : 10, 'Black-grass': 11 }\n",
        "for label in Labels:\n",
        "    labels.append(mapping[label])\n",
        "del Labels"
      ],
      "execution_count": 0,
      "outputs": []
    },
    {
      "cell_type": "code",
      "metadata": {
        "id": "djzw1el0acUM",
        "colab_type": "code",
        "outputId": "a7ae5942-5211-4c72-e0ae-6746ebdfa4ec",
        "colab": {
          "base_uri": "https://localhost:8080/",
          "height": 34
        }
      },
      "source": [
        "Images[0].shape"
      ],
      "execution_count": 0,
      "outputs": [
        {
          "output_type": "execute_result",
          "data": {
            "text/plain": [
              "(300, 300, 3)"
            ]
          },
          "metadata": {
            "tags": []
          },
          "execution_count": 10
        }
      ]
    },
    {
      "cell_type": "code",
      "metadata": {
        "id": "0t96X22hbEVg",
        "colab_type": "code",
        "colab": {}
      },
      "source": [
        "Images = np.reshape(Images,(-1,300,300,3))\n",
        "Labels = np.array(labels)"
      ],
      "execution_count": 0,
      "outputs": []
    },
    {
      "cell_type": "code",
      "metadata": {
        "id": "Vsd3Jk2RbE4D",
        "colab_type": "code",
        "outputId": "d4aaa653-e71a-455b-df3b-7dc71b479e3f",
        "colab": {
          "base_uri": "https://localhost:8080/",
          "height": 51
        }
      },
      "source": [
        "print(\"Shape of training data: \", Images.shape)\n",
        "print(\"Shape of labels data: \", Labels.shape)"
      ],
      "execution_count": 0,
      "outputs": [
        {
          "output_type": "stream",
          "text": [
            "Shape of training data:  (4823, 300, 300, 3)\n",
            "Shape of labels data:  (4823,)\n"
          ],
          "name": "stdout"
        }
      ]
    },
    {
      "cell_type": "code",
      "metadata": {
        "id": "fTVVy6ArbG61",
        "colab_type": "code",
        "colab": {}
      },
      "source": [
        "from sklearn.model_selection import train_test_split\n",
        "x_train, x_val, y_train, y_val = train_test_split(Images, Labels, test_size=.2, random_state=42, stratify = Labels)"
      ],
      "execution_count": 0,
      "outputs": []
    },
    {
      "cell_type": "code",
      "metadata": {
        "id": "q5q-RPDYbMoR",
        "colab_type": "code",
        "colab": {}
      },
      "source": [
        "from keras.utils import np_utils\n",
        "y_train = np_utils.to_categorical(y_train,num_classes=12)\n",
        "y_val = np_utils.to_categorical(y_val,num_classes=12)"
      ],
      "execution_count": 0,
      "outputs": []
    },
    {
      "cell_type": "code",
      "metadata": {
        "id": "64tuux-3bN9a",
        "colab_type": "code",
        "colab": {}
      },
      "source": [
        "train_datagen = ImageDataGenerator(\n",
        "                                   rotation_range=20,\n",
        "                                   width_shift_range=0.2,\n",
        "                                   height_shift_range=0.2,\n",
        "                                  )\n",
        "\n",
        "validation_datagen = ImageDataGenerator()"
      ],
      "execution_count": 0,
      "outputs": []
    },
    {
      "cell_type": "code",
      "metadata": {
        "id": "Q94poGt6kK2J",
        "colab_type": "code",
        "colab": {}
      },
      "source": [
        "del Images\n",
        "del Labels"
      ],
      "execution_count": 0,
      "outputs": []
    },
    {
      "cell_type": "code",
      "metadata": {
        "id": "cibzHXemkMc8",
        "colab_type": "code",
        "colab": {}
      },
      "source": [
        "train_generator = train_datagen.flow(x_train, y_train, batch_size=32)\n",
        "validation_generator = validation_datagen.flow(x_val, y_val, batch_size=16)"
      ],
      "execution_count": 0,
      "outputs": []
    },
    {
      "cell_type": "code",
      "metadata": {
        "id": "h_5z_zN_kOMi",
        "colab_type": "code",
        "outputId": "59a3bf3a-846e-4795-84de-9750fcb6afe2",
        "colab": {
          "base_uri": "https://localhost:8080/",
          "height": 156
        }
      },
      "source": [
        "import requests \n",
        "from tensorflow.keras.applications import VGG16\n",
        "requests.get('https://github.com/fchollet/deep-learning-models/releases/download/v0.1/vgg16_weights_tf_dim_ordering_tf_kernels_notop.h5', verify=False)\n",
        "vgg = VGG16(include_top=\n",
        "            False, weights='imagenet', input_shape = (300,300,3))"
      ],
      "execution_count": 0,
      "outputs": [
        {
          "output_type": "stream",
          "text": [
            "/usr/local/lib/python3.6/dist-packages/urllib3/connectionpool.py:847: InsecureRequestWarning: Unverified HTTPS request is being made. Adding certificate verification is strongly advised. See: https://urllib3.readthedocs.io/en/latest/advanced-usage.html#ssl-warnings\n",
            "  InsecureRequestWarning)\n",
            "/usr/local/lib/python3.6/dist-packages/urllib3/connectionpool.py:847: InsecureRequestWarning: Unverified HTTPS request is being made. Adding certificate verification is strongly advised. See: https://urllib3.readthedocs.io/en/latest/advanced-usage.html#ssl-warnings\n",
            "  InsecureRequestWarning)\n"
          ],
          "name": "stderr"
        },
        {
          "output_type": "stream",
          "text": [
            "WARNING:tensorflow:From /usr/local/lib/python3.6/dist-packages/tensorflow_core/python/ops/resource_variable_ops.py:1630: calling BaseResourceVariable.__init__ (from tensorflow.python.ops.resource_variable_ops) with constraint is deprecated and will be removed in a future version.\n",
            "Instructions for updating:\n",
            "If using Keras pass *_constraint arguments to layers.\n"
          ],
          "name": "stdout"
        }
      ]
    },
    {
      "cell_type": "code",
      "metadata": {
        "id": "vG01nEyxkQGF",
        "colab_type": "code",
        "colab": {}
      },
      "source": [
        "import tensorflow.keras.optimizers as Optimizer\n",
        "from tensorflow.keras.layers import Flatten, Dense, Dropout, GlobalAvgPool2D, GlobalMaxPooling2D, Concatenate\n",
        "from tensorflow.keras.models import Model"
      ],
      "execution_count": 0,
      "outputs": []
    },
    {
      "cell_type": "code",
      "metadata": {
        "id": "OnrtRKtJkSKX",
        "colab_type": "code",
        "colab": {}
      },
      "source": [
        "vgg.trainable=False\n",
        "for layer in vgg.layers:\n",
        "    layer.trainable = False\n",
        "\n",
        "fc1 = Concatenate(axis=-1)([GlobalAvgPool2D()(vgg.output), GlobalMaxPooling2D()(vgg.output)])\n",
        "fc1 = Dense(400, activation='relu')(fc1)\n",
        "fc1_dropout = Dropout(0.3)(fc1)\n",
        "fc2 = Dense(200, activation='relu')(fc1_dropout)\n",
        "fc2_dropout = Dropout(0.3)(fc2)\n",
        "fc2 = Dense(75, activation='relu')(fc1_dropout)\n",
        "output = Dense(12, activation='softmax')(fc2_dropout)\n",
        "model = Model(vgg.input, output)\n",
        "\n",
        "model.compile(optimizer=Optimizer.Adam(lr=0.0001),loss='categorical_crossentropy',metrics=['accuracy'])\n",
        "model.summary()"
      ],
      "execution_count": 0,
      "outputs": []
    },
    {
      "cell_type": "code",
      "metadata": {
        "id": "7X3HaQS8kUB-",
        "colab_type": "code",
        "colab": {}
      },
      "source": [
        "from tensorflow.keras.callbacks import ModelCheckpoint\n",
        "checkpoint = ModelCheckpoint('saved_model.hdf5', monitor='val_loss', verbose=1, save_weights_only=True, save_best_only=True, mode='min')\n",
        "callbacks_list = [checkpoint]\n",
        "trained = model.fit_generator(train_generator,steps_per_epoch = 25, epochs=200, validation_data = validation_generator,\n",
        "                              validation_steps=10, \n",
        "                              verbose=1, callbacks = callbacks_list)"
      ],
      "execution_count": 0,
      "outputs": []
    },
    {
      "cell_type": "code",
      "metadata": {
        "id": "zg8QIIaDqKAh",
        "colab_type": "code",
        "colab": {}
      },
      "source": [
        "import cv2\n",
        "import numpy as np\n",
        "import pandas as pd\n",
        "\n",
        "import matplotlib.pyplot as plot"
      ],
      "execution_count": 0,
      "outputs": []
    },
    {
      "cell_type": "code",
      "metadata": {
        "id": "aqLLQyTrViRr",
        "colab_type": "code",
        "outputId": "7ebbf054-81d7-4f93-b677-3a059bb9c591",
        "colab": {
          "base_uri": "https://localhost:8080/",
          "height": 1000
        }
      },
      "source": [
        "plot.plot(trained.history['acc'])\n",
        "plot.plot(trained.history['val_acc'])\n",
        "plot.title('Model accuracy')\n",
        "plot.ylabel('Accuracy')\n",
        "plot.xlabel('Epoch')\n",
        "plot.legend(['Train', 'Test'], loc='upper left')\n",
        "plot.show()\n",
        "\n",
        "plot.plot(trained.history['loss'])\n",
        "plot.plot(trained.history['val_loss'])\n",
        "plot.title('Model loss')\n",
        "plot.ylabel('Loss')\n",
        "plot.xlabel('Epoch')\n",
        "plot.legend(['Train', 'Test'], loc='upper left')\n",
        "plot.show()"
      ],
      "execution_count": 0,
      "outputs": [
        {
          "output_type": "display_data",
          "data": {
            "image/png": "[encoded data removed]",
            "text/plain": [
              "<Figure size 1152x720 with 1 Axes>"
            ]
          },
          "metadata": {
            "tags": []
          }
        },
        {
          "output_type": "display_data",
          "data": {
            "image/png": "[encoded data removed]",
            "text/plain": [
              "<Figure size 1152x720 with 1 Axes>"
            ]
          },
          "metadata": {
            "tags": []
          }
        }
      ]
    },
    {
      "cell_type": "code",
      "metadata": {
        "id": "yb2SCamGqalx",
        "colab_type": "code",
        "colab": {}
      },
      "source": [
        "def get_test_images(directory):\n",
        "    Images = []\n",
        "    Image_names = []\n",
        "    for image_file in os.listdir(directory):\n",
        "        Image_names.append(image_file)\n",
        "        image = cv2.imread(directory+r'/'+image_file)\n",
        "        if image is not None:\n",
        "            image = cv2.resize(image,(300,300),)\n",
        "            Images.append(image)\n",
        "    return Images, Image_names"
      ],
      "execution_count": 0,
      "outputs": []
    },
    {
      "cell_type": "code",
      "metadata": {
        "id": "uWHFC1QEqc8k",
        "colab_type": "code",
        "outputId": "7d2fb79a-667d-424a-a498-1a9146e6b8e7",
        "colab": {
          "base_uri": "https://localhost:8080/",
          "height": 34
        }
      },
      "source": [
        "test_images, image_names = get_test_images('/content/drive/My Drive/input/test/')\n",
        "test_images = np.array(test_images)\n",
        "print(test_images.shape)"
      ],
      "execution_count": 0,
      "outputs": [
        {
          "output_type": "stream",
          "text": [
            "(794, 300, 300, 3)\n"
          ],
          "name": "stdout"
        }
      ]
    },
    {
      "cell_type": "code",
      "metadata": {
        "id": "8W1zaSwuqji1",
        "colab_type": "code",
        "colab": {}
      },
      "source": [
        "vgg = VGG16(include_top=\n",
        "            False, weights='imagenet', input_shape = (300,300,3))\n",
        "\n",
        "vgg.trainable=False\n",
        "for layer in vgg.layers:\n",
        "    layer.trainable = False\n",
        "\n",
        "fc1 = Concatenate(axis=-1)([GlobalAvgPool2D()(vgg.output), GlobalMaxPooling2D()(vgg.output)])\n",
        "fc1 = Dense(400, activation='relu')(fc1)\n",
        "fc1_dropout = Dropout(0.3)(fc1)\n",
        "fc2 = Dense(200, activation='relu')(fc1_dropout)\n",
        "fc2_dropout = Dropout(0.3)(fc2)\n",
        "fc2 = Dense(75, activation='relu')(fc1_dropout)\n",
        "output = Dense(12, activation='softmax')(fc2_dropout)\n",
        "model = Model(vgg.input, output)\n",
        "\n"
      ],
      "execution_count": 0,
      "outputs": []
    },
    {
      "cell_type": "code",
      "metadata": {
        "id": "iPdaDLh5qlpX",
        "colab_type": "code",
        "colab": {}
      },
      "source": [
        "model.load_weights('saved_model.hdf5')"
      ],
      "execution_count": 0,
      "outputs": []
    },
    {
      "cell_type": "code",
      "metadata": {
        "id": "3TDotnjAqn9A",
        "colab_type": "code",
        "colab": {}
      },
      "source": [
        "tensorflow.keras.models.save_model(\n",
        "    model,\n",
        "    'tf_model.hdf5',\n",
        "    overwrite=True,\n",
        "    include_optimizer=True\n",
        ")\n"
      ],
      "execution_count": 0,
      "outputs": []
    },
    {
      "cell_type": "code",
      "metadata": {
        "id": "DrNQ-mZa5qlb",
        "colab_type": "code",
        "outputId": "f79406a4-4439-4108-a328-f3577c9a08cf",
        "colab": {
          "base_uri": "https://localhost:8080/",
          "height": 156
        }
      },
      "source": [
        "from tensorflow.keras.models import load_model\n",
        "model = load_model('tf_model.hdf5')"
      ],
      "execution_count": 0,
      "outputs": [
        {
          "output_type": "stream",
          "text": [
            "WARNING:tensorflow:From /usr/local/lib/python3.6/dist-packages/tensorflow_core/python/ops/init_ops.py:97: calling GlorotUniform.__init__ (from tensorflow.python.ops.init_ops) with dtype is deprecated and will be removed in a future version.\n",
            "Instructions for updating:\n",
            "Call initializer instance with the dtype argument instead of passing it to the constructor\n",
            "WARNING:tensorflow:From /usr/local/lib/python3.6/dist-packages/tensorflow_core/python/ops/init_ops.py:97: calling Zeros.__init__ (from tensorflow.python.ops.init_ops) with dtype is deprecated and will be removed in a future version.\n",
            "Instructions for updating:\n",
            "Call initializer instance with the dtype argument instead of passing it to the constructor\n",
            "WARNING:tensorflow:No training configuration found in save file: the model was *not* compiled. Compile it manually.\n"
          ],
          "name": "stdout"
        }
      ]
    },
    {
      "cell_type": "code",
      "metadata": {
        "id": "xeLpR-A55tRp",
        "colab_type": "code",
        "colab": {}
      },
      "source": [
        "predictions = model.predict(test_images)\n",
        "predictions = np.argmax(predictions, axis = 1)"
      ],
      "execution_count": 0,
      "outputs": []
    },
    {
      "cell_type": "code",
      "metadata": {
        "id": "CiHcoyFv5uqO",
        "colab_type": "code",
        "colab": {}
      },
      "source": [
        "labelled_predictions = []\n",
        "mapping = {0: 'Sugar beet',1:'Fat Hen' ,2: 'Scentless Mayweed',3:  'Charlock', \n",
        "        4:'Small-flowered Cranesbill', 5:'Maize' ,\n",
        "        6: 'Shepherds Purse' ,7:'Common wheat' ,8:'Common Chickweed' ,\n",
        "        9:'Cleavers' ,10:'Loose Silky-bent'  ,11: 'Black-grass'}\n",
        "for pred in predictions:\n",
        "    labelled_predictions.append(mapping[pred])\n",
        "\n"
      ],
      "execution_count": 0,
      "outputs": []
    },
    {
      "cell_type": "code",
      "metadata": {
        "id": "c3bP0GaB5wNW",
        "colab_type": "code",
        "colab": {}
      },
      "source": [
        "d = []\n",
        "i=0\n",
        "for pred in labelled_predictions:\n",
        "    d.append({'file': image_names[i], 'species': pred})\n",
        "    i=i+1\n",
        "output = pd.DataFrame(d)\n",
        "output.to_csv('final_submission.csv',index=False)"
      ],
      "execution_count": 0,
      "outputs": []
    },
    {
      "cell_type": "code",
      "metadata": {
        "id": "fgdKJLA_5yza",
        "colab_type": "code",
        "colab": {}
      },
      "source": [
        "from google.colab import files"
      ],
      "execution_count": 0,
      "outputs": []
    },
    {
      "cell_type": "code",
      "metadata": {
        "id": "0_qnf-VMYbJI",
        "colab_type": "code",
        "colab": {}
      },
      "source": [
        "files.download('final_submission.csv')"
      ],
      "execution_count": 0,
      "outputs": []
    },
    {
      "cell_type": "code",
      "metadata": {
        "id": "JFZF8b7nYgCB",
        "colab_type": "code",
        "colab": {}
      },
      "source": [
        ""
      ],
      "execution_count": 0,
      "outputs": []
    }
  ]
}